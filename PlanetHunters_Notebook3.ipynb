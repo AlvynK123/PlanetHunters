{
  "nbformat": 4,
  "nbformat_minor": 0,
  "metadata": {
    "accelerator": "GPU",
    "colab": {
      "provenance": [],
      "include_colab_link": true
    },
    "kernelspec": {
      "display_name": "Python 3",
      "name": "python3"
    }
  },
  "cells": [
    {
      "cell_type": "markdown",
      "metadata": {
        "id": "view-in-github",
        "colab_type": "text"
      },
      "source": [
        "<a href=\"https://colab.research.google.com/github/AlvynK123/PlanetHunters/blob/main/PlanetHunters_Notebook3.ipynb\" target=\"_parent\"><img src=\"https://colab.research.google.com/assets/colab-badge.svg\" alt=\"Open In Colab\"/></a>"
      ]
    },
    {
      "cell_type": "markdown",
      "metadata": {
        "id": "m0ygrZd3dmu5"
      },
      "source": [
        "# Classifying Exoplanets\n",
        "\n",
        "In this notebook, we'll continue improving our models for exoplanet classification!\n",
        "\n",
        "We'll be:\n",
        "*   Preprocessing the Dataset similar to before\n",
        "*   Implementing more modern and complex machine learning architectures to see which one performs best!"
      ]
    },
    {
      "cell_type": "markdown",
      "metadata": {
        "id": "irPDgkzsdguU"
      },
      "source": [
        "## Exoplanet Classification\n",
        "\n",
        "\n",
        "\n",
        "\n",
        "Previously, we were able to visualize and augment the dataset from Kepler. Now that we better understand the data that we're working with, we can begin to dive into more complex architectures to classify exoplanet stars, and the difficulties faced when doing so."
      ]
    },
    {
      "cell_type": "markdown",
      "metadata": {
        "id": "Nmzc3C9XkIKL"
      },
      "source": [
        "**IMPORTANT**: Make sure you've got 'Change Runtime Type' set to **GPU**!"
      ]
    },
    {
      "cell_type": "code",
      "metadata": {
        "id": "PjzYKqcweS2F",
        "cellView": "form",
        "colab": {
          "base_uri": "https://localhost:8080/"
        },
        "outputId": "ba5fe27c-28ec-4b78-ffe2-05d73a22ba04"
      },
      "source": [
        "#@title Run this code to get started\n",
        "%tensorflow_version 2.x\n",
        "!wget -q --show-progress 'https://storage.googleapis.com/inspirit-ai-data-bucket-1/Data/AI%20Scholars/Sessions%206%20-%2010%20(Projects)/Project%20-%20Planet%20Hunters/exoTrain.csv'\n",
        "!wget -q --show-progress 'https://storage.googleapis.com/inspirit-ai-data-bucket-1/Data/AI%20Scholars/Sessions%206%20-%2010%20(Projects)/Project%20-%20Planet%20Hunters/exoTest.csv'\n",
        "\n",
        "from urllib.request import urlretrieve\n",
        "from pathlib import Path\n",
        "import matplotlib.pyplot as plt\n",
        "import numpy as np\n",
        "import pandas as pd\n",
        "import seaborn as sns\n",
        "\n",
        "import warnings\n",
        "warnings.filterwarnings('ignore')\n",
        "\n",
        "import torch\n",
        "import torch.nn as nn\n",
        "import torch.nn.functional as F\n",
        "\n",
        "from sklearn.neural_network import MLPClassifier\n",
        "\n",
        "from sklearn.neighbors import KNeighborsClassifier\n",
        "from sklearn.ensemble import RandomForestClassifier\n",
        "from sklearn.linear_model import LogisticRegression\n",
        "from sklearn.metrics import confusion_matrix\n",
        "from sklearn.cluster import KMeans\n",
        "from sklearn import  metrics\n",
        "from sklearn import tree\n",
        "from sklearn.model_selection import train_test_split\n",
        "from imblearn.over_sampling import SMOTE\n",
        "from scipy.signal import savgol_filter\n",
        "from sklearn.metrics import classification_report\n",
        "from sklearn.metrics import accuracy_score,plot_confusion_matrix,precision_score,recall_score,f1_score\n",
        "from sklearn.preprocessing import MinMaxScaler, StandardScaler, RobustScaler, normalize\n",
        "\n",
        "import tensorflow as tf\n",
        "import keras\n",
        "from keras.models import Sequential\n",
        "from keras.layers import Activation, Dropout, Flatten, Dense\n",
        "from keras import optimizers\n",
        "from tensorflow.keras.utils import to_categorical\n",
        "from tensorflow.keras.optimizers import Adam, SGD\n",
        "from keras.layers import Dense, Dropout, Activation, Flatten\n",
        "from keras.layers import Conv1D, Conv2D, MaxPooling2D, BatchNormalization, MaxPooling1D\n",
        "from keras.losses import categorical_crossentropy\n",
        "from keras.regularizers import l2\n",
        "from keras.callbacks import EarlyStopping, ModelCheckpoint\n",
        "from keras.models import load_model\n",
        "\n",
        "df_train = pd.read_csv('exoTrain.csv')\n",
        "df_train.LABEL = df_train.LABEL -1\n",
        "df_test = pd.read_csv('exoTest.csv')\n",
        "df_test.LABEL = df_test.LABEL - 1\n",
        "\n",
        "def plot_graphs(history, best):\n",
        "\n",
        "  plt.figure(figsize=[10,4])\n",
        "  # summarize history for accuracy\n",
        "  plt.subplot(121)\n",
        "  plt.plot(history.history['accuracy'])\n",
        "  plt.plot(history.history['val_accuracy'])\n",
        "  plt.title('model accuracy across training\\n best accuracy of %.02f'%best[1])\n",
        "  plt.ylabel('accuracy')\n",
        "  plt.xlabel('epoch')\n",
        "  plt.legend(['train', 'test'], loc='upper left')\n",
        "\n",
        "  # summarize history for loss\n",
        "  plt.subplot(122)\n",
        "  plt.plot(history.history['loss'])\n",
        "  plt.plot(history.history['val_loss'])\n",
        "  plt.title('model loss across training\\n best loss of %.02f'%best[0])\n",
        "  plt.ylabel('loss')\n",
        "  plt.xlabel('epoch')\n",
        "  plt.legend(['train', 'test'], loc='upper left')\n",
        "  plt.show()\n",
        "\n",
        "def analyze_results(model, train_X, train_y, test_X, test_y):\n",
        "    \"\"\"\n",
        "    Helper function to help interpret and model performance.\n",
        "\n",
        "    Args:\n",
        "    model: estimator instance\n",
        "    train_X: {array-like, sparse matrix} of shape (n_samples, n_features)\n",
        "    Input values for model training.\n",
        "    train_y : array-like of shape (n_samples,)\n",
        "    Target values for model training.\n",
        "    test_X: {array-like, sparse matrix} of shape (n_samples, n_features)\n",
        "    Input values for model testing.\n",
        "    test_y : array-like of shape (n_samples,)\n",
        "    Target values for model testing.\n",
        "\n",
        "    Returns:\n",
        "    None\n",
        "    \"\"\"\n",
        "    print(\"-------------------------------------------\")\n",
        "    print(\"Model Results\")\n",
        "    print(\"\")\n",
        "    print(\"Training:\")\n",
        "    if type(model) == keras.engine.sequential.Sequential:\n",
        "      train_predictions = model.predict(train_X)\n",
        "      train_predictions = (train_predictions > 0.5)\n",
        "      cm = confusion_matrix(train_y, train_predictions)\n",
        "      labels = [0, 1]\n",
        "      df_cm = pd.DataFrame(cm,index = labels,columns = labels)\n",
        "      fig = plt.figure()\n",
        "      res = sns.heatmap(df_cm, annot=True,cmap='Blues', fmt='g')\n",
        "      #plt.yticks([1.25, 3.75], labels,va='center')\n",
        "      plt.title('Confusion Matrix - TestData')\n",
        "      plt.ylabel('True label')\n",
        "      plt.xlabel('Predicted label')\n",
        "      plt.show()\n",
        "    else:\n",
        "      fig = plt.figure(figsize=(22,7))\n",
        "      ax = fig.add_subplot(1,3,1)\n",
        "      plot_confusion_matrix(model,train_X,train_y,ax=ax,values_format = '.0f')\n",
        "      plt.show()\n",
        "    print(\"Testing:\")\n",
        "    if type(model) == keras.engine.sequential.Sequential:\n",
        "      test_predictions = model.predict(test_X)\n",
        "      test_predictions = (test_predictions > 0.5)\n",
        "      cm = confusion_matrix(test_y, test_predictions)\n",
        "      labels = [0, 1]\n",
        "      df_cm = pd.DataFrame(cm,index = labels,columns = labels)\n",
        "      fig = plt.figure()\n",
        "      res = sns.heatmap(df_cm, annot=True,cmap='Blues', fmt='g')\n",
        "      #plt.yticks([1.25, 3.75], labels,va='center')\n",
        "      plt.title('Confusion Matrix - TestData')\n",
        "      plt.ylabel('True label')\n",
        "      plt.xlabel('Predicted label')\n",
        "      plt.show()\n",
        "    else:\n",
        "      fig = plt.figure(figsize=(22,7))\n",
        "      ax = fig.add_subplot(1,3,1)\n",
        "      plot_confusion_matrix(model,test_X,test_y,ax=ax,values_format = '.0f')\n",
        "      plt.show()\n",
        "\n",
        "def reset(train,test):\n",
        "    train_X = train.drop('LABEL', axis=1)\n",
        "    train_y = train['LABEL'].values\n",
        "    test_X = test.drop('LABEL', axis=1)\n",
        "    test_y = test['LABEL'].values\n",
        "    return train_X,train_y,test_X,test_y\n",
        "\n",
        "train_X,train_y,test_X,test_y = reset(df_train, df_test)"
      ],
      "execution_count": null,
      "outputs": [
        {
          "output_type": "stream",
          "name": "stdout",
          "text": [
            "exoTrain.csv        100%[===================>] 250.08M  58.4MB/s    in 4.3s    \n",
            "exoTest.csv         100%[===================>]  27.57M  48.4MB/s    in 0.6s    \n"
          ]
        }
      ]
    },
    {
      "cell_type": "markdown",
      "metadata": {
        "id": "PAc67kxQftEV"
      },
      "source": [
        "Remember that `df_train` and `df_test` are the Pandas data frames that store our training and test datapoints. Similar to before, we'll now augment the data before exploring more modern, complex machine learning architectures."
      ]
    },
    {
      "cell_type": "code",
      "metadata": {
        "cellView": "form",
        "id": "6yRtFD1pYP7d"
      },
      "source": [
        "#@title Run this code to preprocess data\n",
        "# Helper functions that we can run for the three augmentation functions that will be used, but not explroed in depth\n",
        "\n",
        "def smote(a,b):\n",
        "    model = SMOTE()\n",
        "    X,y = model.fit_resample(a, b)\n",
        "    return X,y\n",
        "\n",
        "def savgol(df1,df2):\n",
        "    x = savgol_filter(df1,21,4,deriv=0)\n",
        "    y = savgol_filter(df2,21,4,deriv=0)\n",
        "    return x,y\n",
        "\n",
        "def fourier(df1,df2):\n",
        "    train_X = np.abs(np.fft.fft(df1, axis=1))\n",
        "    test_X = np.abs(np.fft.fft(df2, axis=1))\n",
        "    return train_X,test_X\n",
        "\n",
        "def norm(df1,df2):\n",
        "    train_X = normalize(df1)\n",
        "    test_X = normalize(df2)\n",
        "    return train_X,test_X\n",
        "\n",
        "def robust(df1,df2):\n",
        "    scaler = RobustScaler()\n",
        "    train_X = scaler.fit_transform(df1)\n",
        "    test_X = scaler.transform(df2)\n",
        "    return train_X,test_X\n",
        "\n",
        "fourier_train_X, fourier_test_X = fourier(train_X, test_X)\n",
        "savgol_train_X, savgol_test_X = savgol(fourier_train_X, fourier_test_X)\n",
        "norm_train_X, norm_test_X = norm(savgol_train_X,savgol_test_X)\n",
        "robust_train_X, robust_test_X = robust(norm_train_X, norm_test_X)\n",
        "smote_train_X,smote_train_y = smote(robust_train_X, train_y)\n",
        "\n",
        "# Here we're adding the generated, augmented data onto the testing data\n",
        "aug_train_X, new_X_test_data, aug_train_y, new_y_test_data = train_test_split(smote_train_X, smote_train_y, test_size=0.3)\n",
        "aug_test_X = np.concatenate((robust_test_X, new_X_test_data), axis=0)\n",
        "aug_test_y = np.concatenate((test_y, new_y_test_data), axis=0)\n"
      ],
      "execution_count": null,
      "outputs": []
    },
    {
      "cell_type": "markdown",
      "metadata": {
        "id": "mRQPCRgpZVpW"
      },
      "source": [
        "Awesome! Now we'll have access to the augmented dataset as `aug_train_X`, `aug_text_X`, `aug_train_y`, and `aug_test_y`.\n",
        "\n",
        "(For further exploration and model comparison based off different datasets, you can explore the code block from above to access the different versions of the augmented data. For instance, what happens if we use the raw data? Normalized data?)"
      ]
    },
    {
      "cell_type": "markdown",
      "metadata": {
        "id": "sw7FwS0_W7Bx"
      },
      "source": [
        "## Milestone 1: MLP\n",
        "\n",
        "Let's start with neural nets!\n",
        "\n",
        "MLP stands for Multi-layer Perceptron, a specific kind of simple neural network. Thankfully, this is something that Sklearn supports, and it's already imported as MLPClassifier.\n",
        "\n",
        "\n",
        "![visual](https://s3.amazonaws.com/stackabuse/media/intro-to-neural-networks-scikit-learn-3.png)"
      ]
    },
    {
      "cell_type": "markdown",
      "metadata": {
        "id": "dmbSCBCH2I9p"
      },
      "source": [
        "#### Step 1: Create our model\n",
        "\n",
        "Let's complete this by using a `MLPClassifier` model imported by the sklearn package. You can view the original documentation [here](https://scikit-learn.org/stable/modules/generated/sklearn.neural_network.MLPClassifier.html). Let's create a model with:\n",
        "1. One hidden layer with 10 units\n",
        "2. random_state = 1\n",
        "3. 300 max iterations"
      ]
    },
    {
      "cell_type": "code",
      "metadata": {
        "id": "9rVs2i_C_F1o"
      },
      "source": [
        "# Create an MLP model (will train later)\n",
        "model = MLPClassifier(random_state=1, max_iter=300, hidden_layer_sizes=(10))"
      ],
      "execution_count": null,
      "outputs": []
    },
    {
      "cell_type": "markdown",
      "metadata": {
        "id": "WXj7fzfkXuQ9"
      },
      "source": [
        "Now, train your model using `aug_train_X` and `aug_train_y`, and analyze its accuracy and confusion matrix!\n",
        "\n",
        "You have access to all the methods used in the previous notebook."
      ]
    },
    {
      "cell_type": "code",
      "metadata": {
        "id": "5okHo29ZXt13",
        "colab": {
          "base_uri": "https://localhost:8080/",
          "height": 932
        },
        "outputId": "aa858ee1-4bbc-4c29-a7c6-0b82723b02ae"
      },
      "source": [
        "#YOUR CODE HERE\n",
        "model.fit(aug_train_X, aug_train_y)\n",
        "\n",
        "train_predictions = model.predict(aug_train_X)\n",
        "test_predictions = model.predict(aug_test_X)\n",
        "print(accuracy_score(aug_train_y, train_predictions))\n",
        "print(accuracy_score(aug_test_y, test_predictions))\n",
        "analyze_results(model=model, train_X=aug_train_X, train_y=aug_train_y, test_X=aug_test_X, test_y=aug_test_y)\n"
      ],
      "execution_count": null,
      "outputs": [
        {
          "output_type": "stream",
          "name": "stdout",
          "text": [
            "0.9984441301272985\n",
            "0.9966666666666667\n",
            "-------------------------------------------\n",
            "Model Results\n",
            "\n",
            "Training:\n"
          ]
        },
        {
          "output_type": "display_data",
          "data": {
            "text/plain": [
              "<Figure size 1584x504 with 2 Axes>"
            ],
            "image/png": "[encoded data removed]"
          },
          "metadata": {
            "needs_background": "light"
          }
        },
        {
          "output_type": "stream",
          "name": "stdout",
          "text": [
            "Testing:\n"
          ]
        },
        {
          "output_type": "display_data",
          "data": {
            "text/plain": [
              "<Figure size 1584x504 with 2 Axes>"
            ],
            "image/png": "[encoded data removed]"
          },
          "metadata": {
            "needs_background": "light"
          }
        }
      ]
    },
    {
      "cell_type": "markdown",
      "metadata": {
        "id": "UdW3vidfZQxg"
      },
      "source": [
        "**Discuss:** Were the results what you were expecting? Why or why not? How does it compare with past model results?\n",
        "\n",
        "What might be any potential issues that we might run into?\n",
        "\n",
        "**Hint:** What are some downsides to a traditional MLP? What would happen if we shifted the data left or right?"
      ]
    },
    {
      "cell_type": "markdown",
      "metadata": {
        "id": "9cYzv7-ZvNMb"
      },
      "source": [
        "#### (Optional) Exercise\n",
        "\n",
        "How does the model perform with different amount of layers and different amount of neurons within each layer? How does the same model perform when tested on the original dataset? (`train_X`, `test_X`, `train_y`, `test_y`) How does it perform when trained on the original dataset?"
      ]
    },
    {
      "cell_type": "code",
      "metadata": {
        "id": "HQvSf0VOvRxe"
      },
      "source": [
        "# YOUR CODE HERE"
      ],
      "execution_count": null,
      "outputs": []
    },
    {
      "cell_type": "markdown",
      "metadata": {
        "id": "TRF34weGoClK"
      },
      "source": [
        "## Milestone 2: Neural Networks (Tensorflow and Keras)"
      ]
    },
    {
      "cell_type": "markdown",
      "metadata": {
        "id": "qbCq5LpQgVkF"
      },
      "source": [
        "Now let's do what we did before, but using `tensorflow` and `keras`. These libraries will be crucial as they will allow us to create more complex models.\n",
        "\n",
        "We'll start by creating a similar model using these new packages.\n",
        "\n",
        "We'll be using a `Sequential` model in order to act as a \"list of layers\", which we will define to match our previous example. Later, we'll use it to build more complex, advanced models. More information can be found [here](https://keras.io/api/layers/).\n",
        "\n",
        "1. Add a `Dense` layer with 10 hidden units and a ReLU activation function. This layer also requires an `input_shape` parameter. What should the input shape be?\n",
        "\n",
        "2. Add a `Dense` layer with 1 hidden unit and a sigmoid activation function. (This will be our output layer)\n",
        "\n",
        "**Discuss:** Why is there only 1 neuron in the final layer? Why do we have two layers?"
      ]
    },
    {
      "cell_type": "code",
      "metadata": {
        "id": "shZOUCAbBJ0M"
      },
      "source": [
        "#@title Instructor Solution\n",
        "# Create an MLP model (will train later)\n",
        "\n",
        "# First, we initialize our model\n",
        "model = Sequential()\n",
        "# then we add a \"Dense\" (i.e. fully connected) layer\n",
        "model.add(Dense(10, input_shape=(3197,), activation = \"relu\")) # for the first layer we specify the input dimensions\n",
        "# we end by defining the output layer, which has the number of dimensions of the predictions we're making\n",
        "model.add(Dense(1, activation='sigmoid'))\n",
        "# we finalize the model by \"compiling\" it and defining some other hyperparameters\n",
        "model.compile(loss='binary_crossentropy', optimizer='adam', metrics=['accuracy'])"
      ],
      "execution_count": null,
      "outputs": []
    },
    {
      "cell_type": "markdown",
      "metadata": {
        "id": "sriqCvylFPSE"
      },
      "source": [
        "Now to check the details of your model, run the code block below."
      ]
    },
    {
      "cell_type": "code",
      "metadata": {
        "id": "gUdk-_M3FTqA",
        "colab": {
          "base_uri": "https://localhost:8080/"
        },
        "outputId": "5f2166ce-2d08-4e02-bcb3-66d846b54bc5"
      },
      "source": [
        "model.summary()"
      ],
      "execution_count": null,
      "outputs": [
        {
          "output_type": "stream",
          "name": "stdout",
          "text": [
            "Model: \"sequential_1\"\n",
            "_________________________________________________________________\n",
            " Layer (type)                Output Shape              Param #   \n",
            "=================================================================\n",
            " dense (Dense)               (None, 10)                31980     \n",
            "                                                                 \n",
            " dense_1 (Dense)             (None, 1)                 11        \n",
            "                                                                 \n",
            "=================================================================\n",
            "Total params: 31,991\n",
            "Trainable params: 31,991\n",
            "Non-trainable params: 0\n",
            "_________________________________________________________________\n"
          ]
        }
      ]
    },
    {
      "cell_type": "markdown",
      "metadata": {
        "id": "6QaGfpePBSKS"
      },
      "source": [
        "Now train and analyze your `model` like you did before! You'll need to specify these parameters to `fit`:\n",
        "\n",
        "1. `batch_size` = 64\n",
        "2. `epochs` = 20\n",
        "3. `verbose` = 1\n",
        "4. `validation_data` = (aug_test_X, aug_test_y)\n",
        "5. `shuffle` = True\n",
        "\n",
        "Save the history of the model as it trains or \"fits\" the data.\n",
        "\n",
        "Hint:\n",
        "\n",
        "\n",
        "\n",
        "```\n",
        "history = model.fit(#YOUR CODE HERE)\n",
        "```"
      ]
    },
    {
      "cell_type": "code",
      "metadata": {
        "id": "b9Y1kOWtnOTv",
        "colab": {
          "base_uri": "https://localhost:8080/"
        },
        "outputId": "caf6f7a6-d624-46f7-c71a-6da13db2b30d"
      },
      "source": [
        "#@title Instructor Solution\n",
        "# Train and analyze the model\n",
        "\n",
        "# Train the model, see accuracies, and analyze the results\n",
        "\n",
        "#######TODO#########\n",
        "\n",
        "#training the model\n",
        "batch_size = 64\n",
        "epochs = 20\n",
        "validation_data = (aug_test_X, aug_test_y)\n",
        "verbose = 1\n",
        "shuffle = True\n",
        "\n",
        "history = model.fit(aug_train_X, aug_train_y, batch_size=batch_size, epochs=epochs, verbose=verbose,\n",
        "                            validation_data=validation_data, shuffle=shuffle)\n",
        "\n",
        "####################"
      ],
      "execution_count": null,
      "outputs": [
        {
          "output_type": "stream",
          "name": "stdout",
          "text": [
            "Epoch 1/20\n",
            "111/111 [==============================] - 5s 6ms/step - loss: 0.1694 - accuracy: 0.9399 - val_loss: 0.0878 - val_accuracy: 0.9694\n",
            "Epoch 2/20\n",
            "111/111 [==============================] - 0s 4ms/step - loss: 0.0630 - accuracy: 0.9789 - val_loss: 0.0394 - val_accuracy: 0.9914\n",
            "Epoch 3/20\n",
            "111/111 [==============================] - 0s 4ms/step - loss: 0.0363 - accuracy: 0.9900 - val_loss: 0.0498 - val_accuracy: 0.9853\n",
            "Epoch 4/20\n",
            "111/111 [==============================] - 0s 4ms/step - loss: 0.0276 - accuracy: 0.9918 - val_loss: 0.0543 - val_accuracy: 0.9806\n",
            "Epoch 5/20\n",
            "111/111 [==============================] - 1s 7ms/step - loss: 0.0258 - accuracy: 0.9908 - val_loss: 0.0498 - val_accuracy: 0.9878\n",
            "Epoch 6/20\n",
            "111/111 [==============================] - 1s 9ms/step - loss: 0.0271 - accuracy: 0.9917 - val_loss: 0.0421 - val_accuracy: 0.9886\n",
            "Epoch 7/20\n",
            "111/111 [==============================] - 1s 7ms/step - loss: 0.0260 - accuracy: 0.9915 - val_loss: 0.0253 - val_accuracy: 0.9950\n",
            "Epoch 8/20\n",
            "111/111 [==============================] - 1s 7ms/step - loss: 0.0152 - accuracy: 0.9956 - val_loss: 0.0254 - val_accuracy: 0.9947\n",
            "Epoch 9/20\n",
            "111/111 [==============================] - 1s 8ms/step - loss: 0.0129 - accuracy: 0.9966 - val_loss: 0.0260 - val_accuracy: 0.9944\n",
            "Epoch 10/20\n",
            "111/111 [==============================] - 1s 8ms/step - loss: 0.0131 - accuracy: 0.9958 - val_loss: 0.0299 - val_accuracy: 0.9939\n",
            "Epoch 11/20\n",
            "111/111 [==============================] - 1s 7ms/step - loss: 0.0204 - accuracy: 0.9932 - val_loss: 0.0244 - val_accuracy: 0.9953\n",
            "Epoch 12/20\n",
            "111/111 [==============================] - 1s 9ms/step - loss: 0.0188 - accuracy: 0.9939 - val_loss: 0.0271 - val_accuracy: 0.9947\n",
            "Epoch 13/20\n",
            "111/111 [==============================] - 1s 7ms/step - loss: 0.0146 - accuracy: 0.9950 - val_loss: 0.0241 - val_accuracy: 0.9961\n",
            "Epoch 14/20\n",
            "111/111 [==============================] - 1s 8ms/step - loss: 0.0240 - accuracy: 0.9928 - val_loss: 0.0277 - val_accuracy: 0.9947\n",
            "Epoch 15/20\n",
            "111/111 [==============================] - 1s 8ms/step - loss: 0.0115 - accuracy: 0.9962 - val_loss: 0.0229 - val_accuracy: 0.9961\n",
            "Epoch 16/20\n",
            "111/111 [==============================] - 1s 7ms/step - loss: 0.0215 - accuracy: 0.9926 - val_loss: 0.0442 - val_accuracy: 0.9897\n",
            "Epoch 17/20\n",
            "111/111 [==============================] - 1s 8ms/step - loss: 0.0213 - accuracy: 0.9935 - val_loss: 0.0292 - val_accuracy: 0.9944\n",
            "Epoch 18/20\n",
            "111/111 [==============================] - 1s 8ms/step - loss: 0.0136 - accuracy: 0.9955 - val_loss: 0.0283 - val_accuracy: 0.9947\n",
            "Epoch 19/20\n",
            "111/111 [==============================] - 1s 8ms/step - loss: 0.0165 - accuracy: 0.9946 - val_loss: 0.0601 - val_accuracy: 0.9850\n",
            "Epoch 20/20\n",
            "111/111 [==============================] - 1s 8ms/step - loss: 0.0114 - accuracy: 0.9969 - val_loss: 0.0332 - val_accuracy: 0.9947\n"
          ]
        }
      ]
    },
    {
      "cell_type": "markdown",
      "metadata": {
        "id": "gIBRY5RnbrMY"
      },
      "source": [
        "Now we will see how to view the performance of the model as it trained over time!\n",
        "\n",
        "In addition, we still want to be able to plot the confusion matrix of the model to check for performance and potential class biases. Enter code to analyze the model in the empty portion of the codeblock below."
      ]
    },
    {
      "cell_type": "code",
      "metadata": {
        "id": "VDly6NJObeiP",
        "colab": {
          "base_uri": "https://localhost:8080/",
          "height": 970
        },
        "outputId": "fbb6d9de-8c6b-4219-e677-db5604c48dc7"
      },
      "source": [
        "#@title Instructor Solution\n",
        "\n",
        "performance = model.evaluate(aug_test_X, aug_test_y, batch_size=batch_size)\n",
        "plot_graphs(history, performance)\n",
        "\n",
        "##############\n",
        "analyze_results(model=model, train_X=aug_train_X, train_y=aug_train_y, test_X=aug_test_X, test_y=aug_test_y)\n",
        "##############"
      ],
      "execution_count": null,
      "outputs": [
        {
          "output_type": "stream",
          "name": "stdout",
          "text": [
            "57/57 [==============================] - 0s 4ms/step - loss: 0.0332 - accuracy: 0.9947\n"
          ]
        },
        {
          "output_type": "display_data",
          "data": {
            "text/plain": [
              "<Figure size 720x288 with 2 Axes>"
            ],
            "image/png": "[encoded data removed]"
          },
          "metadata": {
            "needs_background": "light"
          }
        },
        {
          "output_type": "stream",
          "name": "stdout",
          "text": [
            "-------------------------------------------\n",
            "Model Results\n",
            "\n",
            "Training:\n"
          ]
        },
        {
          "output_type": "display_data",
          "data": {
            "text/plain": [
              "<Figure size 432x288 with 2 Axes>"
            ],
            "image/png": "[encoded data removed]"
          },
          "metadata": {
            "needs_background": "light"
          }
        },
        {
          "output_type": "stream",
          "name": "stdout",
          "text": [
            "Testing:\n"
          ]
        },
        {
          "output_type": "display_data",
          "data": {
            "text/plain": [
              "<Figure size 432x288 with 2 Axes>"
            ],
            "image/png": "[encoded data removed]"
          },
          "metadata": {
            "needs_background": "light"
          }
        }
      ]
    },
    {
      "cell_type": "markdown",
      "metadata": {
        "id": "YbrQWbPYhfwZ"
      },
      "source": [
        "#### (Optional) Exercise\n",
        "\n",
        "How does the model perform with different amount of layers and different amount of neurons within each layer? How does the same model perform of the original dataset? (`train_X`, `test_X`, `train_y`, `test_y`) How does it perform when trained on the original dataset?"
      ]
    },
    {
      "cell_type": "code",
      "metadata": {
        "id": "BlXvkwTEhpNw"
      },
      "source": [
        "# YOUR CODE HERE"
      ],
      "execution_count": null,
      "outputs": []
    },
    {
      "cell_type": "markdown",
      "metadata": {
        "id": "MA_rRs1jTjDw"
      },
      "source": [
        "## Milestone 3: Covolutional Neural Network (CNN)\n",
        "\n",
        "One potential fault of our previous approach is memorizing the placement of specific patterns in the data. Although we were able to achieve great levels of accuracy, we might benefit from an architecture that can make decisions based on patterns no matter where they occur in the sample - for example, if we started measuring flux earlier or later!\n",
        "\n",
        "This is something that CNNs excel at. Most CNN architectures are set up to work with two dimensional inputs such as images, so our approach will be a bit different in working with and creating a one-dimensional CNN. However, similar concepts apply as we'll be passing a filter accoss the each data point with respect to time.\n",
        "\n",
        "[Here](https://towardsdatascience.com/a-comprehensive-guide-to-convolutional-neural-networks-the-eli5-way-3bd2b1164a53) is a link to learn more about convolutional neural nets, and [here's](https://poloclub.github.io/cnn-explainer/) an interactive demo to explore. Try talking through the image of a traditional CNN below!\n",
        "\n",
        "![](https://miro.medium.com/max/3288/1*uAeANQIOQPqWZnnuH-VEyw.jpeg)"
      ]
    },
    {
      "cell_type": "markdown",
      "metadata": {
        "id": "NnQlAZ043qOo"
      },
      "source": [
        "First, we'll have to \"reshape\" our augmented data into a shape that can be fed into a 1-dimensional CNN. We've reshaped the training data below - please **reshape the testing data, too.**\n",
        "\n",
        "Note: No new information is created, but just the way the information is structured. Because of this, we should have the same number of values present overall with no modifications to the values themselves."
      ]
    },
    {
      "cell_type": "code",
      "metadata": {
        "id": "ZMWiJnl735CQ"
      },
      "source": [
        "#@title Instructor Solution\n",
        "cnn_aug_train_X = np.expand_dims(aug_train_X, axis=2)\n",
        "cnn_aug_test_X = np.expand_dims(aug_test_X, axis=2)\n",
        "cnn_aug_train_y = aug_train_y\n",
        "cnn_aug_test_y = aug_test_y\n",
        "\n",
        "cnn_train_X = np.expand_dims(train_X, axis=2)\n",
        "cnn_test_X = np.expand_dims(test_X, axis=2)\n",
        "cnn_train_y = train_y\n",
        "cnn_test_y = test_y"
      ],
      "execution_count": null,
      "outputs": []
    },
    {
      "cell_type": "markdown",
      "metadata": {
        "id": "rtHMC1fJWsrM"
      },
      "source": [
        "What are the new shapes of the data? The new data is stored in variables: `cnn_aug_train_X`, `cnn_aug_test_X`, `cnn_aug_train_y`, `cnn_aug_test_y`."
      ]
    },
    {
      "cell_type": "code",
      "metadata": {
        "id": "Fcti4YgIXdN4",
        "colab": {
          "base_uri": "https://localhost:8080/"
        },
        "outputId": "593b0522-78c9-4e8e-f87b-011ce1256562"
      },
      "source": [
        "#@title Instructor Solution\n",
        "\n",
        "print(cnn_aug_train_X.shape)\n",
        "print(cnn_aug_test_X.shape)\n",
        "print(cnn_aug_train_y.shape)\n",
        "print(cnn_aug_test_y.shape)"
      ],
      "execution_count": null,
      "outputs": [
        {
          "output_type": "stream",
          "name": "stdout",
          "text": [
            "(7070, 3197, 1)\n",
            "(3600, 3197, 1)\n",
            "(7070,)\n",
            "(3600,)\n"
          ]
        }
      ]
    },
    {
      "cell_type": "markdown",
      "metadata": {
        "id": "fW5bXRoaCTIj"
      },
      "source": [
        "Awesome!\n",
        "\n",
        "Now, we'll be using a `Sequential` model to build up our CNN. Here's a suggestion for an architecture to start with:\n",
        "\n",
        "1. Add a `Conv1D` layer with 8 output filters, kernal size of 5, relu activation function, and padding = 'same'. This layer also requires an `input_shape` parameter. Does the defined input_shape make sense?\n",
        "\n",
        "2. Add a `MaxPooling1D` layer with pool_size = 4, strides = 4, and padding = 'same'.\n",
        "\n",
        "3. Add a `Conv1D` layer with 16 output filters, kernal size of 3, relu activation function, and padding = 'same'.\n",
        "\n",
        "4. Add a `MaxPooling1D` layer with pool_size = 4, strides = 4, and padding = 'same'.\n",
        "\n",
        "5. Add a `Flatten` layer.\n",
        "\n",
        "6. Add a `Dense` layer with 1 hidden unit and a sigmoid activation function. (This will be our output layer)\n",
        "\n",
        "Discuss: Why is there only 1 neuron in the final layer? Why do we have the same loss function and metrics as the network before if we're using two different architectures?"
      ]
    },
    {
      "cell_type": "code",
      "metadata": {
        "id": "dmW5k1otDu79"
      },
      "source": [
        "#@title Instructor Solution\n",
        "# Create a CNN model (will train later)\n",
        "\n",
        "# First, we initialize our model\n",
        "model = Sequential()\n",
        "input_shape = [3197, 1]\n",
        "\n",
        "cnn_layer_1 = Conv1D(8, 5, activation='relu', input_shape=input_shape, padding='same')\n",
        "cnn_layer_2 = MaxPooling1D(pool_size=4, strides=4, padding='same')\n",
        "cnn_layer_3 = Conv1D(16, 3, activation='relu', padding='same')\n",
        "cnn_layer_4 = MaxPooling1D(pool_size=4, strides=4, padding='same')\n",
        "cnn_layer_5 = Flatten()\n",
        "cnn_layer_6 = Dense(1, activation='sigmoid')\n",
        "\n",
        "# then we add a \"Dense\" (i.e. fully connected) layer\n",
        "model.add(cnn_layer_1) # for the first layer we specify the input dimensions\n",
        "model.add(cnn_layer_2)\n",
        "model.add(cnn_layer_3)\n",
        "model.add(cnn_layer_4)\n",
        "model.add(cnn_layer_5)\n",
        "model.add(cnn_layer_6)\n",
        "# we end by defining the output layer, which has the number of dimensions of the predictions we're making\n",
        "# model.add(Dense(1, activation='sigmoid'))\n",
        "# we finalize the model by \"compiling\" it and defining some other hyperparameters\n",
        "model.compile(loss='binary_crossentropy', optimizer='adam', metrics=['accuracy'])"
      ],
      "execution_count": null,
      "outputs": []
    },
    {
      "cell_type": "markdown",
      "metadata": {
        "id": "WbDT84eyDGHY"
      },
      "source": [
        "Now train the model like we did before! (Make sure to use the newly formatted data instead. This will include `cnn_aug_train_X`, `cnn_aug_test_X`, `cnn_aug_train_y`, and `cnn_aug_test_y`)"
      ]
    },
    {
      "cell_type": "code",
      "metadata": {
        "id": "fqX49x9pDvql",
        "colab": {
          "base_uri": "https://localhost:8080/"
        },
        "outputId": "c566e373-b267-40f5-c3c8-ae56c643987e",
        "cellView": "form"
      },
      "source": [
        "#@title Instructor Solution\n",
        "# Train and analyze the model\n",
        "\n",
        "# Train the model, see accuracies, and analyze the results\n",
        "\n",
        "#######TODO#########\n",
        "\n",
        "#training the model\n",
        "batch_size = 64\n",
        "epochs = 20\n",
        "validation_data = (cnn_aug_test_X, cnn_aug_test_y)\n",
        "verbose = 1\n",
        "shuffle = True\n",
        "\n",
        "history = model.fit(cnn_aug_train_X, cnn_aug_train_y, batch_size=batch_size, epochs=epochs, verbose=verbose,\n",
        "                            validation_data=validation_data, shuffle=shuffle)\n",
        "\n",
        "####################"
      ],
      "execution_count": null,
      "outputs": [
        {
          "output_type": "stream",
          "name": "stdout",
          "text": [
            "Epoch 1/20\n",
            "111/111 [==============================] - 7s 10ms/step - loss: 0.2598 - accuracy: 0.8993 - val_loss: 0.1029 - val_accuracy: 0.9678\n",
            "Epoch 2/20\n",
            "111/111 [==============================] - 1s 6ms/step - loss: 0.0908 - accuracy: 0.9709 - val_loss: 0.0676 - val_accuracy: 0.9817\n",
            "Epoch 3/20\n",
            "111/111 [==============================] - 1s 7ms/step - loss: 0.0576 - accuracy: 0.9827 - val_loss: 0.0483 - val_accuracy: 0.9889\n",
            "Epoch 4/20\n",
            "111/111 [==============================] - 1s 6ms/step - loss: 0.0390 - accuracy: 0.9885 - val_loss: 0.0391 - val_accuracy: 0.9911\n",
            "Epoch 5/20\n",
            "111/111 [==============================] - 1s 6ms/step - loss: 0.0267 - accuracy: 0.9921 - val_loss: 0.0315 - val_accuracy: 0.9931\n",
            "Epoch 6/20\n",
            "111/111 [==============================] - 1s 6ms/step - loss: 0.0223 - accuracy: 0.9931 - val_loss: 0.0278 - val_accuracy: 0.9944\n",
            "Epoch 7/20\n",
            "111/111 [==============================] - 1s 7ms/step - loss: 0.0171 - accuracy: 0.9953 - val_loss: 0.0296 - val_accuracy: 0.9928\n",
            "Epoch 8/20\n",
            "111/111 [==============================] - 1s 6ms/step - loss: 0.0156 - accuracy: 0.9960 - val_loss: 0.0231 - val_accuracy: 0.9942\n",
            "Epoch 9/20\n",
            "111/111 [==============================] - 1s 6ms/step - loss: 0.0130 - accuracy: 0.9962 - val_loss: 0.0225 - val_accuracy: 0.9956\n",
            "Epoch 10/20\n",
            "111/111 [==============================] - 1s 5ms/step - loss: 0.0121 - accuracy: 0.9967 - val_loss: 0.0241 - val_accuracy: 0.9953\n",
            "Epoch 11/20\n",
            "111/111 [==============================] - 1s 6ms/step - loss: 0.0095 - accuracy: 0.9976 - val_loss: 0.0257 - val_accuracy: 0.9953\n",
            "Epoch 12/20\n",
            "111/111 [==============================] - 1s 5ms/step - loss: 0.0097 - accuracy: 0.9972 - val_loss: 0.0254 - val_accuracy: 0.9953\n",
            "Epoch 13/20\n",
            "111/111 [==============================] - 1s 6ms/step - loss: 0.0090 - accuracy: 0.9970 - val_loss: 0.0241 - val_accuracy: 0.9961\n",
            "Epoch 14/20\n",
            "111/111 [==============================] - 1s 6ms/step - loss: 0.0077 - accuracy: 0.9973 - val_loss: 0.0212 - val_accuracy: 0.9972\n",
            "Epoch 15/20\n",
            "111/111 [==============================] - 1s 5ms/step - loss: 0.0070 - accuracy: 0.9984 - val_loss: 0.0234 - val_accuracy: 0.9978\n",
            "Epoch 16/20\n",
            "111/111 [==============================] - 1s 6ms/step - loss: 0.0067 - accuracy: 0.9984 - val_loss: 0.0234 - val_accuracy: 0.9978\n",
            "Epoch 17/20\n",
            "111/111 [==============================] - 1s 7ms/step - loss: 0.0061 - accuracy: 0.9980 - val_loss: 0.0256 - val_accuracy: 0.9958\n",
            "Epoch 18/20\n",
            "111/111 [==============================] - 1s 6ms/step - loss: 0.0051 - accuracy: 0.9987 - val_loss: 0.0233 - val_accuracy: 0.9972\n",
            "Epoch 19/20\n",
            "111/111 [==============================] - 1s 6ms/step - loss: 0.0050 - accuracy: 0.9984 - val_loss: 0.0246 - val_accuracy: 0.9969\n",
            "Epoch 20/20\n",
            "111/111 [==============================] - 1s 6ms/step - loss: 0.0050 - accuracy: 0.9984 - val_loss: 0.0278 - val_accuracy: 0.9961\n"
          ]
        }
      ]
    },
    {
      "cell_type": "markdown",
      "metadata": {
        "id": "StKM_5W6uOYZ"
      },
      "source": [
        "Once again, let's analyze the model's performance over time and the final confusion matrices:"
      ]
    },
    {
      "cell_type": "code",
      "metadata": {
        "id": "1C4uq3IUEHbo"
      },
      "source": [
        "#YOUR CODE HERE"
      ],
      "execution_count": null,
      "outputs": []
    }
  ]
}